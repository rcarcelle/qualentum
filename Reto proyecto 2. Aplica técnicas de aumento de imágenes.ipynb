{
 "cells": [
  {
   "cell_type": "code",
   "execution_count": 12,
   "id": "a811b2c4",
   "metadata": {},
   "outputs": [],
   "source": [
    "# Carga de datos\n",
    "\n",
    "import pandas as pd\n",
    "import numpy as np\n",
    "\n",
    "# Cargar el dataset desde el archivo CSV\n",
    "data = pd.read_csv(r\"C:\\Users\\CaRa801\\OneDrive - HP Inc\\Knowledge transfer Gerard Costa\\Bootcamp en IA\\Sprint 2\\Lab4\\Ejercicio autoevaluable 2\\data\\sign_mnist_train.csv\")\n",
    "\n",
    "# Separar las etiquetas y los píxeles\n",
    "labels = data['label']\n",
    "data = data.drop(columns='label')\n",
    "\n",
    "# Convertir los valores de píxeles a un arreglo de NumPy\n",
    "images = data.to_numpy()\n",
    "\n",
    "# Reformar el array para convertirlo en imágenes de 28x28 píxeles\n",
    "images = images.reshape(-1, 28, 28).astype(np.float32)\n"
   ]
  },
  {
   "cell_type": "code",
   "execution_count": 15,
   "id": "b7162ca1",
   "metadata": {},
   "outputs": [
    {
     "name": "stdout",
     "output_type": "stream",
     "text": [
      "Etiquetas únicas: [ 0  1  2  3  4  5  6  7  8 10 11 12 13 14 15 16 17 18 19 20 21 22 23 24]\n"
     ]
    }
   ],
   "source": [
    "print(\"Etiquetas únicas:\", np.unique(labels))"
   ]
  },
  {
   "cell_type": "code",
   "execution_count": 16,
   "id": "4dcaaa04",
   "metadata": {},
   "outputs": [],
   "source": [
    "# Seleccion de una imagen\n",
    "\n",
    "sample_image = images[0]\n"
   ]
  },
  {
   "cell_type": "code",
   "execution_count": 17,
   "id": "82c3447e",
   "metadata": {},
   "outputs": [
    {
     "data": {
      "image/png": "[encoded data removed]",
      "text/plain": [
       "<Figure size 640x480 with 2 Axes>"
      ]
     },
     "metadata": {},
     "output_type": "display_data"
    }
   ],
   "source": [
    "# Aplicacion de transformaciones\n",
    "\n",
    "import torch\n",
    "from torchvision import transforms\n",
    "import matplotlib.pyplot as plt\n",
    "\n",
    "# Definir las transformaciones\n",
    "transform = transforms.Compose([\n",
    "    transforms.ToPILImage(),\n",
    "    transforms.RandomRotation(30),  # Rotación aleatoria\n",
    "    transforms.RandomAffine(degrees=0, translate=(0.1, 0.1)),  # Traslación\n",
    "    transforms.RandomResizedCrop(28, scale=(0.8, 1.2)),  # Escalado\n",
    "    transforms.ColorJitter(brightness=0.2, contrast=0.2, saturation=0.2, hue=0.2),  # Inversión de colores\n",
    "    transforms.RandomVerticalFlip(),  # Flip aleatorio vertical\n",
    "    transforms.RandomHorizontalFlip()  # Flip aleatorio horizontal\n",
    "])\n",
    "\n",
    "transformed_image = transform(sample_image)\n",
    "\n",
    "# Visualización de la imagen original y transformada\n",
    "fig, ax = plt.subplots(1, 2)\n",
    "ax[0].imshow(sample_image, cmap='gray')\n",
    "ax[0].set_title('Imagen Original')\n",
    "ax[1].imshow(transformed_image, cmap='gray')\n",
    "ax[1].set_title('Imagen Transformada')\n",
    "\n",
    "plt.show()\n"
   ]
  },
  {
   "cell_type": "code",
   "execution_count": 18,
   "id": "1db2a69b",
   "metadata": {},
   "outputs": [],
   "source": [
    "# Exploracion de la red convolucional\n",
    "\n",
    "from torch.utils.data import DataLoader, Dataset\n",
    "import torch\n",
    "from torchvision import transforms\n",
    "\n",
    "# Normalizar los valores de los píxeles\n",
    "transform = transforms.Compose([\n",
    "    transforms.ToTensor(),\n",
    "    transforms.Normalize((0.5,), (0.5,))  # Normalizar en el rango [0, 1]\n",
    "])\n",
    "\n",
    "# Crear un Dataset personalizado\n",
    "class SignLanguageDataset(Dataset):\n",
    "    def __init__(self, images, labels, transform=None):\n",
    "        self.images = images\n",
    "        self.labels = labels\n",
    "        self.transform = transform\n",
    "\n",
    "    def __len__(self):\n",
    "        return len(self.images)\n",
    "\n",
    "    def __getitem__(self, idx):\n",
    "        image = self.images[idx]\n",
    "        label = self.labels[idx]\n",
    "        if self.transform:\n",
    "            image = self.transform(image)\n",
    "        return image, label\n",
    "\n",
    "dataset = SignLanguageDataset(images, labels, transform=transform)\n"
   ]
  },
  {
   "cell_type": "code",
   "execution_count": 19,
   "id": "02f75044",
   "metadata": {},
   "outputs": [],
   "source": [
    "# Division del conjunto de datos\n",
    "\n",
    "from torch.utils.data import random_split\n",
    "\n",
    "train_size = int(0.8 * len(dataset))\n",
    "val_size = len(dataset) - train_size\n",
    "\n",
    "train_dataset, val_dataset = random_split(dataset, [train_size, val_size])\n"
   ]
  },
  {
   "cell_type": "code",
   "execution_count": 20,
   "id": "aac74f21",
   "metadata": {},
   "outputs": [],
   "source": [
    "# Creacion de los DataLoaders\n",
    "\n",
    "subset_train_dataset, _ = torch.utils.data.random_split(train_dataset, [2000, len(train_dataset) - 2000])\n",
    "train_loader = DataLoader(subset_train_dataset, batch_size=32, shuffle=True, num_workers=0)\n",
    "val_loader = DataLoader(val_dataset, batch_size=32, shuffle=False, num_workers=0)\n"
   ]
  },
  {
   "cell_type": "code",
   "execution_count": 21,
   "id": "66022743",
   "metadata": {},
   "outputs": [],
   "source": [
    "# Definicion de la CNN\n",
    "\n",
    "import torch.nn as nn\n",
    "import torch.optim as optim\n",
    "\n",
    "class CNN(nn.Module):\n",
    "    def __init__(self):\n",
    "        super(CNN, self).__init__()\n",
    "        self.conv1 = nn.Conv2d(1, 32, kernel_size=3, padding=1)\n",
    "        self.pool = nn.MaxPool2d(2, 2)\n",
    "        self.conv2 = nn.Conv2d(32, 64, kernel_size=3, padding=1)\n",
    "        self.fc1 = nn.Linear(64 * 7 * 7, 128)\n",
    "        self.fc2 = nn.Linear(128, 25)  # 10 clases para el alfabeto de señas\n",
    "\n",
    "    def forward(self, x):\n",
    "        x = self.pool(torch.relu(self.conv1(x)))\n",
    "        x = self.pool(torch.relu(self.conv2(x)))\n",
    "        x = x.view(-1, 64 * 7 * 7)\n",
    "        x = torch.relu(self.fc1(x))\n",
    "        x = self.fc2(x)\n",
    "        return x\n",
    "\n",
    "model = CNN()\n"
   ]
  },
  {
   "cell_type": "code",
   "execution_count": 22,
   "id": "32a38625",
   "metadata": {},
   "outputs": [],
   "source": [
    "device = torch.device(\"cuda\" if torch.cuda.is_available() else \"cpu\")"
   ]
  },
  {
   "cell_type": "code",
   "execution_count": 23,
   "id": "83e40c53",
   "metadata": {},
   "outputs": [
    {
     "name": "stdout",
     "output_type": "stream",
     "text": [
      "Etiquetas únicas: [ 0  1  2  3  4  5  6  7  8 10 11 12 13 14 15 16 17 18 19 20 21 22 23 24]\n"
     ]
    }
   ],
   "source": [
    "print(\"Etiquetas únicas:\", np.unique(labels))"
   ]
  },
  {
   "cell_type": "code",
   "execution_count": 24,
   "id": "9a856c79",
   "metadata": {},
   "outputs": [
    {
     "name": "stdout",
     "output_type": "stream",
     "text": [
      "Epoch 1, Batch 0, Loss: 40.3566\n"
     ]
    },
    {
     "name": "stdout",
     "output_type": "stream",
     "text": [
      "Epoch 1, Batch 50, Loss: 2.7524\n",
      "Epoch 1 - Loss: 9.5101, Accuracy: 10.75%\n",
      "Epoch 2, Batch 0, Loss: 1.9028\n",
      "Epoch 2, Batch 50, Loss: 0.9060\n",
      "Epoch 2 - Loss: 1.4387, Accuracy: 56.70%\n",
      "Epoch 3, Batch 0, Loss: 0.7636\n",
      "Epoch 3, Batch 50, Loss: 0.4664\n",
      "Epoch 3 - Loss: 0.5293, Accuracy: 83.95%\n",
      "Epoch 4, Batch 0, Loss: 0.1725\n",
      "Epoch 4, Batch 50, Loss: 0.2242\n",
      "Epoch 4 - Loss: 0.2578, Accuracy: 91.95%\n",
      "Epoch 5, Batch 0, Loss: 0.0256\n",
      "Epoch 5, Batch 50, Loss: 0.0438\n",
      "Epoch 5 - Loss: 0.2044, Accuracy: 93.90%\n"
     ]
    }
   ],
   "source": [
    "# Entrenamiento de la red\n",
    "\n",
    "criterion = nn.CrossEntropyLoss()\n",
    "optimizer = optim.Adam(model.parameters(), lr=0.001)\n",
    "\n",
    "num_epochs = 5\n",
    "\n",
    "for epoch in range(num_epochs):\n",
    "    model.train()\n",
    "    running_loss = 0.0\n",
    "    correct = 0\n",
    "    total = 0\n",
    "\n",
    "    for i, (images, labels) in enumerate(train_loader):\n",
    "        images, labels = images.to(device), labels.to(device)\n",
    "        optimizer.zero_grad()\n",
    "        outputs = model(images)\n",
    "        loss = criterion(outputs, labels)\n",
    "        loss.backward()\n",
    "        optimizer.step()\n",
    "\n",
    "        running_loss += loss.item()\n",
    "        _, predicted = torch.max(outputs, 1)\n",
    "        total += labels.size(0)\n",
    "        correct += (predicted == labels).sum().item()\n",
    "\n",
    "        if i % 50 == 0:  # Muestra progreso cada 50 lotes\n",
    "            print(f\"Epoch {epoch+1}, Batch {i}, Loss: {loss.item():.4f}\", flush=True)\n",
    "\n",
    "    print(f\"Epoch {epoch+1} - Loss: {running_loss/len(train_loader):.4f}, Accuracy: {100*correct/total:.2f}%\")\n"
   ]
  },
  {
   "cell_type": "code",
   "execution_count": 25,
   "id": "7ec1be7d",
   "metadata": {},
   "outputs": [
    {
     "name": "stdout",
     "output_type": "stream",
     "text": [
      "Validation Loss: 0.4583, Validation Accuracy: 87.32%\n"
     ]
    }
   ],
   "source": [
    "# Evaluacion del modelo\n",
    "\n",
    "model.eval()\n",
    "val_loss = 0.0\n",
    "correct = 0\n",
    "total = 0\n",
    "\n",
    "with torch.no_grad():\n",
    "    for images, labels in val_loader:\n",
    "        outputs = model(images)\n",
    "        loss = criterion(outputs, labels)\n",
    "        val_loss += loss.item()\n",
    "\n",
    "        _, predicted = torch.max(outputs, 1)\n",
    "        total += labels.size(0)\n",
    "        correct += (predicted == labels).sum().item()\n",
    "\n",
    "val_accuracy = 100 * correct / total\n",
    "print(f'Validation Loss: {val_loss/len(val_loader):.4f}, Validation Accuracy: {val_accuracy:.2f}%')\n"
   ]
  }
 ],
 "metadata": {
  "kernelspec": {
   "display_name": "programacion_python",
   "language": "python",
   "name": "python3"
  },
  "language_info": {
   "codemirror_mode": {
    "name": "ipython",
    "version": 3
   },
   "file_extension": ".py",
   "mimetype": "text/x-python",
   "name": "python",
   "nbconvert_exporter": "python",
   "pygments_lexer": "ipython3",
   "version": "3.12.9"
  }
 },
 "nbformat": 4,
 "nbformat_minor": 5
}
